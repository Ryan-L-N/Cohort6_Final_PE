{
 "cells": [
  {
   "cell_type": "code",
   "execution_count": 17,
   "id": "bd7fa617",
   "metadata": {},
   "outputs": [
    {
     "name": "stdout",
     "output_type": "stream",
     "text": [
      "height above mars is 555 miles\n"
     ]
    }
   ],
   "source": [
    "miles = 0\n",
    "km = 0\n",
    "\n",
    "unit = input('Input your measurement unit. If you are using miles, input \"miles.\" If you are using kilometers, input \"kilometers\"')\n",
    "\n",
    "if unit=='miles': miles=1\n",
    "if unit=='kilometers':km=1\n",
    "\n",
    "height = int(input(\"How high are you?\"))\n",
    "print(f\"height above mars is {height} {unit}\")"
   ]
  },
  {
   "cell_type": "code",
   "execution_count": 18,
   "id": "5d8cec16",
   "metadata": {},
   "outputs": [
    {
     "name": "stdout",
     "output_type": "stream",
     "text": [
      "total yards in 555 miles: 976800\n",
      "total feet in 555 miles: 2930400\n",
      "total inches in 555 miles: 35164800\n"
     ]
    }
   ],
   "source": [
    "#miles yards, feet inches\n",
    "if miles==1:\n",
    "    yards = height*1760\n",
    "    feet = yards*3\n",
    "    inches = feet*12\n",
    "    print(f\"total yards in {height} {unit}: {yards}\")\n",
    "    print(f\"total feet in {height} {unit}: {feet}\")\n",
    "    print(f\"total inches in {height} {unit}: {inches}\")"
   ]
  },
  {
   "cell_type": "code",
   "execution_count": 19,
   "id": "d0a21f2e",
   "metadata": {},
   "outputs": [],
   "source": [
    "#km meters, cm, mm\n",
    "if km ==1:\n",
    "    meters = height*1000\n",
    "    cm = meters*100\n",
    "    mm = cm*10\n",
    "    print(f\"total meters in {height} {unit}: {meters}\")\n",
    "    print(f\"total centimeters in {height} {unit}: {cm}\")\n",
    "    print(f\"total millimeters in {height} {unit}: {mm}\")"
   ]
  }
 ],
 "metadata": {
  "kernelspec": {
   "display_name": "Python 3",
   "language": "python",
   "name": "python3"
  },
  "language_info": {
   "codemirror_mode": {
    "name": "ipython",
    "version": 3
   },
   "file_extension": ".py",
   "mimetype": "text/x-python",
   "name": "python",
   "nbconvert_exporter": "python",
   "pygments_lexer": "ipython3",
   "version": "3.13.5"
  }
 },
 "nbformat": 4,
 "nbformat_minor": 5
}
