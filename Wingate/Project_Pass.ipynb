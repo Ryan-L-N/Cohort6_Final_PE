{
 "cells": [
  {
   "cell_type": "code",
   "execution_count": 1,
   "id": "eb71ce08",
   "metadata": {},
   "outputs": [
    {
     "data": {
      "application/vnd.microsoft.datawrangler.viewer.v0+json": {
       "columns": [
        {
         "name": "index",
         "rawType": "int64",
         "type": "integer"
        },
        {
         "name": "season",
         "rawType": "object",
         "type": "string"
        },
        {
         "name": "year",
         "rawType": "int64",
         "type": "integer"
        },
        {
         "name": "medal",
         "rawType": "object",
         "type": "string"
        },
        {
         "name": "country_code",
         "rawType": "object",
         "type": "string"
        },
        {
         "name": "country",
         "rawType": "object",
         "type": "string"
        },
        {
         "name": "athletes",
         "rawType": "object",
         "type": "string"
        },
        {
         "name": "games",
         "rawType": "object",
         "type": "string"
        },
        {
         "name": "sport",
         "rawType": "object",
         "type": "string"
        },
        {
         "name": "event_gender",
         "rawType": "object",
         "type": "string"
        },
        {
         "name": "event_name",
         "rawType": "object",
         "type": "string"
        }
       ],
       "ref": "f055b4ba-3081-4fd4-b1cc-37b5590a13b4",
       "rows": [
        [
         "0",
         "Summer",
         "1896",
         "Gold",
         "USA",
         "United States",
         "Thomas BURKE",
         "1896 Athens",
         "Athletics",
         "Men's",
         "100m"
        ],
        [
         "1",
         "Summer",
         "1896",
         "Silver",
         "GER",
         "Germany",
         "Fritz HOFMANN",
         "1896 Athens",
         "Athletics",
         "Men's",
         "100m"
        ],
        [
         "2",
         "Summer",
         "1896",
         "Bronze",
         "HUN",
         "Hungary",
         "Alajos SZOKOLYI",
         "1896 Athens",
         "Athletics",
         "Men's",
         "100m"
        ],
        [
         "3",
         "Summer",
         "1896",
         "Bronze",
         "USA",
         "United States",
         "Francis LANE",
         "1896 Athens",
         "Athletics",
         "Men's",
         "100m"
        ],
        [
         "4",
         "Summer",
         "1896",
         "Gold",
         "USA",
         "United States",
         "Thomas BURKE",
         "1896 Athens",
         "Athletics",
         "Men's",
         "400m"
        ]
       ],
       "shape": {
        "columns": 10,
        "rows": 5
       }
      },
      "text/html": [
       "<div>\n",
       "<style scoped>\n",
       "    .dataframe tbody tr th:only-of-type {\n",
       "        vertical-align: middle;\n",
       "    }\n",
       "\n",
       "    .dataframe tbody tr th {\n",
       "        vertical-align: top;\n",
       "    }\n",
       "\n",
       "    .dataframe thead th {\n",
       "        text-align: right;\n",
       "    }\n",
       "</style>\n",
       "<table border=\"1\" class=\"dataframe\">\n",
       "  <thead>\n",
       "    <tr style=\"text-align: right;\">\n",
       "      <th></th>\n",
       "      <th>season</th>\n",
       "      <th>year</th>\n",
       "      <th>medal</th>\n",
       "      <th>country_code</th>\n",
       "      <th>country</th>\n",
       "      <th>athletes</th>\n",
       "      <th>games</th>\n",
       "      <th>sport</th>\n",
       "      <th>event_gender</th>\n",
       "      <th>event_name</th>\n",
       "    </tr>\n",
       "  </thead>\n",
       "  <tbody>\n",
       "    <tr>\n",
       "      <th>0</th>\n",
       "      <td>Summer</td>\n",
       "      <td>1896</td>\n",
       "      <td>Gold</td>\n",
       "      <td>USA</td>\n",
       "      <td>United States</td>\n",
       "      <td>Thomas BURKE</td>\n",
       "      <td>1896 Athens</td>\n",
       "      <td>Athletics</td>\n",
       "      <td>Men's</td>\n",
       "      <td>100m</td>\n",
       "    </tr>\n",
       "    <tr>\n",
       "      <th>1</th>\n",
       "      <td>Summer</td>\n",
       "      <td>1896</td>\n",
       "      <td>Silver</td>\n",
       "      <td>GER</td>\n",
       "      <td>Germany</td>\n",
       "      <td>Fritz HOFMANN</td>\n",
       "      <td>1896 Athens</td>\n",
       "      <td>Athletics</td>\n",
       "      <td>Men's</td>\n",
       "      <td>100m</td>\n",
       "    </tr>\n",
       "    <tr>\n",
       "      <th>2</th>\n",
       "      <td>Summer</td>\n",
       "      <td>1896</td>\n",
       "      <td>Bronze</td>\n",
       "      <td>HUN</td>\n",
       "      <td>Hungary</td>\n",
       "      <td>Alajos SZOKOLYI</td>\n",
       "      <td>1896 Athens</td>\n",
       "      <td>Athletics</td>\n",
       "      <td>Men's</td>\n",
       "      <td>100m</td>\n",
       "    </tr>\n",
       "    <tr>\n",
       "      <th>3</th>\n",
       "      <td>Summer</td>\n",
       "      <td>1896</td>\n",
       "      <td>Bronze</td>\n",
       "      <td>USA</td>\n",
       "      <td>United States</td>\n",
       "      <td>Francis LANE</td>\n",
       "      <td>1896 Athens</td>\n",
       "      <td>Athletics</td>\n",
       "      <td>Men's</td>\n",
       "      <td>100m</td>\n",
       "    </tr>\n",
       "    <tr>\n",
       "      <th>4</th>\n",
       "      <td>Summer</td>\n",
       "      <td>1896</td>\n",
       "      <td>Gold</td>\n",
       "      <td>USA</td>\n",
       "      <td>United States</td>\n",
       "      <td>Thomas BURKE</td>\n",
       "      <td>1896 Athens</td>\n",
       "      <td>Athletics</td>\n",
       "      <td>Men's</td>\n",
       "      <td>400m</td>\n",
       "    </tr>\n",
       "  </tbody>\n",
       "</table>\n",
       "</div>"
      ],
      "text/plain": [
       "   season  year   medal country_code        country         athletes  \\\n",
       "0  Summer  1896    Gold          USA  United States     Thomas BURKE   \n",
       "1  Summer  1896  Silver          GER        Germany    Fritz HOFMANN   \n",
       "2  Summer  1896  Bronze          HUN        Hungary  Alajos SZOKOLYI   \n",
       "3  Summer  1896  Bronze          USA  United States     Francis LANE   \n",
       "4  Summer  1896    Gold          USA  United States     Thomas BURKE   \n",
       "\n",
       "         games      sport event_gender event_name  \n",
       "0  1896 Athens  Athletics        Men's       100m  \n",
       "1  1896 Athens  Athletics        Men's       100m  \n",
       "2  1896 Athens  Athletics        Men's       100m  \n",
       "3  1896 Athens  Athletics        Men's       100m  \n",
       "4  1896 Athens  Athletics        Men's       400m  "
      ]
     },
     "execution_count": 1,
     "metadata": {},
     "output_type": "execute_result"
    }
   ],
   "source": [
    "import pandas as pd\n",
    "\n",
    "olympic_data = pd.read_csv('all_olympic_medalists.csv')\n",
    "\n",
    "olympic_data.head()\n",
    "\n"
   ]
  }
 ],
 "metadata": {
  "kernelspec": {
   "display_name": "Python 3",
   "language": "python",
   "name": "python3"
  },
  "language_info": {
   "codemirror_mode": {
    "name": "ipython",
    "version": 3
   },
   "file_extension": ".py",
   "mimetype": "text/x-python",
   "name": "python",
   "nbconvert_exporter": "python",
   "pygments_lexer": "ipython3",
   "version": "3.13.5"
  }
 },
 "nbformat": 4,
 "nbformat_minor": 5
}
